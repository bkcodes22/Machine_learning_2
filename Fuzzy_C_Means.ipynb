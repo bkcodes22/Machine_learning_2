{
 "cells": [
  {
   "cell_type": "code",
   "execution_count": null,
   "id": "1051dcc9-4125-4e13-a9bc-0c26d5a3dd53",
   "metadata": {},
   "outputs": [],
   "source": [
    "import numpy as np\n",
    "import matplotlib.pyplot as plt"
   ]
  },
  {
   "cell_type": "code",
   "execution_count": null,
   "id": "cd514488-276a-449b-b982-e8876e5a4eb3",
   "metadata": {},
   "outputs": [],
   "source": [
    "def initialize_membership_matrix(n_samples, n_clusters):\n",
    "    return np.random.rand(n_samples, n_clusters)"
   ]
  },
  {
   "cell_type": "code",
   "execution_count": null,
   "id": "0cc10fe0-681d-4c68-aab2-35e1f5e12e63",
   "metadata": {},
   "outputs": [],
   "source": [
    "def update_centroids(data, membership_matrix):\n",
    "    centroids = np.dot(data.T, membership_matrix**2) / np.sum(membership_matrix**2, axis=0)\n",
    "    return centroids.T"
   ]
  },
  {
   "cell_type": "code",
   "execution_count": null,
   "id": "8d20aac7-ce3a-4374-8d33-e9cc291d8f70",
   "metadata": {},
   "outputs": [],
   "source": [
    "def update_membership_matrix(data, centroids, fuzziness):\n",
    "    distances = np.linalg.norm(data[:, np.newaxis] - centroids, axis=2)\n",
    "    return 1.0 / np.sum((distances / distances[:, :, np.newaxis])**(2.0 / (fuzziness - 1)), axis=2)"
   ]
  },
  {
   "cell_type": "code",
   "execution_count": null,
   "id": "adfa867c-f1cb-4597-b3a6-7e726fe7da4d",
   "metadata": {},
   "outputs": [],
   "source": [
    "def fuzzy_c_means(data, n_clusters, fuzziness, max_iters=100, tol=1e-4):\n",
    "    n_samples, n_features = data.shape\n",
    "    membership_matrix = initialize_membership_matrix(n_samples, n_clusters)"
   ]
  },
  {
   "cell_type": "code",
   "execution_count": null,
   "id": "8234b493-7dc7-4541-bd62-4af9acb5a560",
   "metadata": {},
   "outputs": [],
   "source": [
    "for iteration in range(max_iters):\n",
    "        centroids = update_centroids(data, membership_matrix)\n",
    "        new_membership_matrix = update_membership_matrix(data, centroids, fuzziness)\n",
    "        \n",
    "        if np.linalg.norm(new_membership_matrix - membership_matrix) < tol:\n",
    "            break\n",
    "        \n",
    "        membership_matrix = new_membership_matrix\n",
    "    \n",
    "    return centroids, membership_matrix"
   ]
  },
  {
   "cell_type": "code",
   "execution_count": null,
   "id": "753cd5cf-3c8d-41d8-9113-9b883bb2f7ed",
   "metadata": {},
   "outputs": [],
   "source": [
    "def plot_clusters(data, membership_matrix, centroids):\n",
    "    # Plotting the clusters based on the highest membership values\n",
    "    labels = np.argmax(membership_matrix, axis=1)\n",
    "    colors = plt.cm.rainbow(np.linspace(0, 1, len(np.unique(labels))))\n",
    "    \n",
    "    for cluster_label, color in zip(np.unique(labels), colors):\n",
    "        cluster_points = data[labels == cluster_label]\n",
    "        plt.scatter(cluster_points[:, 0], cluster_points[:, 1], color=color, label=f'Cluster {cluster_label}')\n",
    "    \n",
    "    plt.scatter(centroids[:, 0], centroids[:, 1], marker='X', s=200, color='black', label='Centroids')\n",
    "    plt.title('FCM Clustering Results')\n",
    "    plt.legend()\n",
    "    plt.show()"
   ]
  },
  {
   "cell_type": "code",
   "execution_count": null,
   "id": "9dab813d-34e0-4edc-b880-effecf40f4d5",
   "metadata": {},
   "outputs": [],
   "source": [
    "# Varying parameters\n",
    "n_clusters_list = [2, 3, 4]\n",
    "fuzziness_list = [1.2, 2.0, 3.0]\n",
    "max_iters_list = [50, 100, 150]\n",
    "tol_list = [1e-3, 1e-4, 1e-5]"
   ]
  },
  {
   "cell_type": "code",
   "execution_count": null,
   "id": "cbbc68ab-0530-4cb2-93ca-0d1a0d2c3eb4",
   "metadata": {},
   "outputs": [],
   "source": [
    "for n_clusters in n_clusters_list:\n",
    "    for fuzziness in fuzziness_list:\n",
    "        for max_iters in max_iters_list:\n",
    "            for tol in tol_list:\n",
    "                centroids, membership_matrix = fuzzy_c_means(data, n_clusters, fuzziness, max_iters, tol)\n",
    "                \n",
    "                plt.subplot(len(n_clusters_list), len(fuzziness_list) * len(max_iters_list) * len(tol_list), subplot_index)\n",
    "                plot_clusters(data, membership_matrix, centroids)\n",
    "                \n",
    "                plt.title(f'n_clusters={n_clusters}, fuzziness={fuzziness}, max_iters={max_iters}, tol={tol}')\n",
    "                subplot_index += 1\n",
    "\n",
    "plt.tight_layout()\n",
    "plt.show()"
   ]
  }
 ],
 "metadata": {
  "kernelspec": {
   "display_name": "Python 3 (ipykernel)",
   "language": "python",
   "name": "python3"
  },
  "language_info": {
   "codemirror_mode": {
    "name": "ipython",
    "version": 3
   },
   "file_extension": ".py",
   "mimetype": "text/x-python",
   "name": "python",
   "nbconvert_exporter": "python",
   "pygments_lexer": "ipython3",
   "version": "3.11.5"
  }
 },
 "nbformat": 4,
 "nbformat_minor": 5
}
